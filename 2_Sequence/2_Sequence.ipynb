{
 "cells": [
  {
   "cell_type": "markdown",
   "metadata": {},
   "source": [
    "# 2장. 시퀀스  \n",
    "Sequence 자료형은 파이썬에서 가장 중요하며, 가장 자주 사용되는 자료형이다.  \n",
    "이는 파이썬의 특징을 매우 잘 담고 있으며, 기존의 프로그래밍 언어들과 성능과 실용성 면에서 차이점을 보여준다.  \n",
    "Sequence 자료형에는 리스트(list), 튜플(tuple), 문자열(string) 등이 있다.  \n",
    "이들은 모두 공통적인 특징과 메소드를 가지고 있다. 이에 대해서는 아래에서 설명한다.  "
   ]
  },
  {
   "cell_type": "markdown",
   "metadata": {},
   "source": [
    "## 파이썬과 클래스  \n",
    "파이썬은 객체지향 프로그래밍 언어로써, 클래스를 굉장히 중요한 요소로 사용한다.  \n",
    "대표적인 객체지향 프로그래밍 언어인 Java와 마찬가지로, 모든 변수가 객체로 선언된다.  \n",
    "일반적인\n",
    "~~~ python\n",
    "a = 'abc'\n",
    "~~~\n",
    "\n",
    "와 같은 변수도 클래스에 대한 객체로 선언된다.  \n",
    "클래스란, 하나의 설계도로써 객체가 사용할 수 있는 변수인 필드(field), 함수인 메소드(method) 등으로 구성된다.  \n",
    "그래서 위의 예시와 같은 변수에 대해서 a.sort() 같은 메소드 사용이 성립된다.  \n",
    "이를 잘 이해하면 시퀀스 자료형을 포함해 파이썬의 모든 요소를 잘 활용할 수 있을 것이다.  "
   ]
  },
  {
   "cell_type": "markdown",
   "metadata": {},
   "source": [
    "## 시퀀스(Sequence) 자료형의 개요  \n",
    "시퀀스는 주로 변경이 가능한지를 두고 구분하는 것이 쉽다.  \n",
    "변경이 가능한 가변형에는 list, array 등이 있다.  \n",
    "이들은 주로 주어진 자료(data)들을 어떻게 변경할 것인지(정렬, 자르기 등)에 대한 메소드가 주어진다.  \n",
    "\n",
    "변경이 불가능한 불변형에는 str, tuple 등이 있다.  \n",
    "이들은 주로 주어진 자료를 어떻게 표현할 것인지, 어떻게 변경이 가능하도록 할 것인지에 대한 메소드가 주어진다.  \n",
    "str이 왜 불변형인지 등에 대해서는 아래 코드와 주석 설명들을 참고하자."
   ]
  },
  {
   "cell_type": "code",
   "execution_count": 1,
   "metadata": {},
   "outputs": [],
   "source": [
    "# 가변형 시퀀스 자료형\n",
    "l1 = [1,2,3] # 이처럼 자료를 바로 넣어서 리스트를 선언할 수 있다.(가장 대표적인 형태)\n",
    "l2 = list() # 이렇게 리스트를 생성하는 생성자를 사용할 수 있다. \n",
    "# 이는 list라는 클래스의 객체를 생성하겠다는 의미와 동일하다.\n",
    "l3 = [i for i in range(1,4)] # l1과 동일한 의미의 코드이다.\n",
    "# 이는 지능형 리스트라는 방식으로, 주로 많은 데이터를 반복적으로 넣어야 할 때 사용한다.\n",
    "# 아래 예제에서 for문을 사용하는 일반적인 방식과\n",
    "# 지능형 리스트를 사용하는 방식에 대한 차이를 알아보자."
   ]
  },
  {
   "cell_type": "markdown",
   "metadata": {},
   "source": [
    "##### 지능형 리스트와 for문 사용의 차이점\n",
    "위 예제의 l3를 지능형 리스트라고 한다.  \n",
    "이를 리스트가 아닌 다른 자료형에서 사용할 경우를 제너레이터 표현식이라고 한다."
   ]
  },
  {
   "cell_type": "code",
   "execution_count": 3,
   "metadata": {},
   "outputs": [
    {
     "name": "stdout",
     "output_type": "stream",
     "text": [
      "0.00018787384033203125\n",
      "0.00014090538024902344\n"
     ]
    }
   ],
   "source": [
    "import time # 시간 측정을 위한 모듈\n",
    "\n",
    "start = time.time()\n",
    "l1 = []\n",
    "for i in range(1000): # 0~999를 l1에 추가\n",
    "    l1.append(i)\n",
    "print(time.time() - start) # 끝났을 때 시간 출력\n",
    "\n",
    "start = time.time()\n",
    "l2 = [i for i in range(1000)] # 지능형 리스트\n",
    "print(time.time() - start)"
   ]
  },
  {
   "cell_type": "markdown",
   "metadata": {},
   "source": [
    "위의 예제에서 보면 근사하지만 지능형 리스트를 사용하는 쪽이 더 빠르다는 것을 알 수 있다.  \n",
    "이것이 1000개의 데이터가 아니라, 십만개, 백만개가 되면 더 큰 차이를 낼 수 있을 거라는 것을 알 수 있다.  \n",
    "물론, 여러 종류의 데이터를 넣어야하는 경우라면 가독성을 위해서 l1과 같은 방식으로 넣어도 된다.  \n",
    "다만, **반복적으로 같은 종류의 데이터**를 넣어야 한다면, 그리고 **속도**로 인해 성능 차이가 발생하는 경우라면 지능형 리스트가 더 나은 선택지이다.  "
   ]
  },
  {
   "cell_type": "markdown",
   "metadata": {},
   "source": [
    "##### 람다식(lambda)과 시퀀스  \n",
    "람다식은 현재 파이썬에서 굉장히 널리 사용되고 있는 방식이다.  \n",
    "파이썬 뿐만 아니라, 신생 언어 대부분이 람다식을 차용하고 있는 만큼 중요한 방식이기도 하다.  \n",
    "**\"lambda x: x에 대한 식\"** 으로 사용할 수 있다."
   ]
  },
  {
   "cell_type": "code",
   "execution_count": 6,
   "metadata": {},
   "outputs": [
    {
     "name": "stdout",
     "output_type": "stream",
     "text": [
      "[0, 1, 4, 9, 16]\n"
     ]
    }
   ],
   "source": [
    "l3 = list(map(lambda x: x ** 2, range(5))) # 매핑\n",
    "print(l3)\n",
    "\n",
    "# map() 함수는 리스트에서 원소를 하나씩 꺼내 입력된 함수를 적용한다.\n",
    "# 여기서 lambda 식이 함수의 역할을 하는 것이다."
   ]
  },
  {
   "cell_type": "code",
   "execution_count": 8,
   "metadata": {},
   "outputs": [
    {
     "name": "stdout",
     "output_type": "stream",
     "text": [
      "edcba\n"
     ]
    }
   ],
   "source": [
    "from functools import reduce\n",
    "print(reduce(lambda x, y: y+x, 'abcde'))\n",
    "\n",
    "# reduce는 함수를 각 원소에 누적적으로 적용시킨다.\n",
    "# 위의 예제는 y+x를 누적하여 적용시키는 것이다.\n",
    "# ba -> cba -> dcba -> edcba"
   ]
  },
  {
   "cell_type": "code",
   "execution_count": 9,
   "metadata": {},
   "outputs": [
    {
     "name": "stdout",
     "output_type": "stream",
     "text": [
      "[0, 1, 2, 3, 4]\n"
     ]
    }
   ],
   "source": [
    "print(list(filter(lambda x: x < 5, range(10))))\n",
    "\n",
    "# filter는 리스트의 원소를 함수에 적용시켜 True인 값만 추출한다.\n",
    "# 그래서 0, 1, 2, 3, 4가 출력된다."
   ]
  },
  {
   "cell_type": "markdown",
   "metadata": {},
   "source": [
    "##### 데카르트 곱  \n",
    "두 개 이상의 시퀀스 자료형으로 일련의 리스트를 만든다.  \n",
    "예제를 통해 방법별 차이점을 알아보자."
   ]
  },
  {
   "cell_type": "code",
   "execution_count": 10,
   "metadata": {},
   "outputs": [
    {
     "name": "stdout",
     "output_type": "stream",
     "text": [
      "[('black', 'S'), ('black', 'M'), ('black', 'L'), ('white', 'S'), ('white', 'M'), ('white', 'L')]\n",
      "0.0016100406646728516\n",
      "\n",
      "[('black', 'S'), ('white', 'S'), ('black', 'M'), ('white', 'M'), ('black', 'L'), ('white', 'L')]\n",
      "0.00022602081298828125\n",
      "\n",
      "[('black', 'S'), ('black', 'M'), ('black', 'L'), ('white', 'S'), ('white', 'M'), ('white', 'L')]\n",
      "0.0002129077911376953\n",
      "\n",
      "[('black', 'S'), ('white', 'S'), ('black', 'M'), ('white', 'M'), ('black', 'L'), ('white', 'L')]\n",
      "0.00019097328186035156\n",
      "\n"
     ]
    }
   ],
   "source": [
    "import time\n",
    "\n",
    "colors = ['black', 'white']\n",
    "sizes = ['S', 'M', 'L']\n",
    "\n",
    "start = time.time()\n",
    "t1 = [(color, size) for color in colors for size in sizes]\n",
    "print(t1)\n",
    "print(time.time() - start)\n",
    "print()\n",
    "\n",
    "start = time.time()\n",
    "t2 = [(color, size) for size in sizes for color in colors]\n",
    "print(t2)\n",
    "print(time.time() - start)\n",
    "print()\n",
    "\n",
    "start = time.time()\n",
    "t3 = []\n",
    "for color in colors:\n",
    "    for size in sizes:\n",
    "        t3.append((color, size))\n",
    "print(t3)\n",
    "print(time.time() - start)\n",
    "print()\n",
    "\n",
    "start = time.time()\n",
    "t4 = []\n",
    "for size in sizes:\n",
    "    for color in colors:\n",
    "        t4.append((color, size))\n",
    "print(t4)\n",
    "print(time.time() - start)\n",
    "print()"
   ]
  },
  {
   "cell_type": "markdown",
   "metadata": {},
   "source": [
    "## 튜플(Tuple)\n",
    "튜플은 불변형의 시퀀스 자료형이다.  \n",
    "말그대로 데이터를 수정할 수 없는 자료형으로, **레코드**로 활용할 수 있다.  \n",
    "특히 GIS의 API를 활용하면 위경도 등의 데이터를 튜플 형식의 레코드로 받아볼 수 있다.  \n",
    "앞서 말했듯이, 튜플을 활용할 때에는 어떤 식으로 활용할 수 있는 자료형으로 변경할 지가 중요하다.  \n",
    "\n",
    "시퀀스 자료형은 순서가 중요하기 때문에 튜플을 만들 때에는 항상 순서를 고려해야 한다.  \n",
    "예로, 위도와 경도에 대한 튜플을 만들어보면  \n",
    "~~~python\n",
    "coordinates = (33.9425, -118.4080)\n",
    "~~~\n",
    "이때, 왼쪽의 데이터 종류를 위도, 오른쪽을 경도라고 결정해둬야 한다.  \n",
    "만약 이를 결정하지 않으면 데이터의 종류가 불명확해져 사용에 지장이 생긴다.  \n",
    "\n",
    "이렇게 튜플을 레코드로 사용하면 데이터 관리에 용이하게 사용할 수 있다.  \n",
    "\n",
    "아래 예제는 함수의 리턴값(결과값) 여러개를 한 번에 리턴하는 방법에 관한 예제이다.  \n",
    "튜플의 패킹과 언패킹(packing & unpacking) 방식에 대해 알아볼 수 있다."
   ]
  },
  {
   "cell_type": "code",
   "execution_count": null,
   "metadata": {},
   "outputs": [],
   "source": [
    "def example1():\n",
    "    lax_coordinates = (33.9425, -118.4080)\n",
    "    city = 'Tokyo'\n",
    "    year = 2003\n",
    "    pop = 32450\n",
    "\n",
    "    return city, lax_coordinates, year, pop\n",
    "\n",
    "res = example1()\n",
    "#이 방법은 "
   ]
  }
 ],
 "metadata": {
  "kernelspec": {
   "display_name": "Python 3",
   "language": "python",
   "name": "python3"
  },
  "language_info": {
   "codemirror_mode": {
    "name": "ipython",
    "version": 3
   },
   "file_extension": ".py",
   "mimetype": "text/x-python",
   "name": "python",
   "nbconvert_exporter": "python",
   "pygments_lexer": "ipython3",
   "version": "3.11.5"
  }
 },
 "nbformat": 4,
 "nbformat_minor": 2
}
