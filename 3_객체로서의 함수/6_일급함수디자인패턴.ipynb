{
 "cells": [
  {
   "cell_type": "markdown",
   "metadata": {},
   "source": [
    "# 디자인 패턴  \n",
    "함수나 메소드에 대한 디자인 패턴에는 여러가지가 있지만 이번 장에서 소개하는 두가지 방법이 가장 대표적인 형태라고 할 수 있다.  \n",
    "먼저 이번 장에서 사용하는 용어에 대해 알아보자.  \n",
    "\n",
    "- 콘텍스트(Context)\n",
    "콘텍스트는 전략을 호출하는 일종의 클라이언트라고 생각하면 된다.  \n",
    "여러 알고리즘 중 하나를 선택하여 적용할 수 있도록 한다.\n",
    "\n",
    "- 전략  \n",
    "고전적인 방식에서는 부모 클래스와 자식 클래스로 구현한다. 부모 클래스는 공통된 인터페이스를 담당하고, 자식 클래스는 구체적인 알고리즘이 구현되어 있다."
   ]
  },
  {
   "cell_type": "code",
   "execution_count": 1,
   "metadata": {},
   "outputs": [],
   "source": [
    "from abc import ABC, abstractmethod\n",
    "from collections import namedtuple\n",
    "\n",
    "Customer = namedtuple('Customer', 'name fidelity')\n",
    "\n",
    "class LineItem:\n",
    "    def __init__(self, product, quantity, price):\n",
    "        self.product = product\n",
    "        self.quantity = quantity\n",
    "        self.price = price\n",
    "\n",
    "    def total(self):\n",
    "        return self.price * self.quantity\n",
    "\n",
    "# Context\n",
    "class Order:\n",
    "    def __init__(self, customer, cart, promotion=None):\n",
    "        self.customer = customer\n",
    "        self.cart = list(cart)\n",
    "        self.promotion = promotion\n",
    "    \n",
    "    def total(self):\n",
    "        if not hasattr(self, '__total'):\n",
    "            self.__total = sum(item.total() for item in self.cart)\n",
    "        return self.__total\n",
    "    \n",
    "    def due(self):\n",
    "        if self.promotion is None:\n",
    "            discount = 0\n",
    "        else:\n",
    "            discount = self.promotion.discount(self)\n",
    "        return self.total() - discount\n",
    "    \n",
    "    def __repr__(self):\n",
    "        fmt = '<Order total: {:.2f} due: {:.2f}'\n",
    "        return fmt.format(self.total(), self.due())"
   ]
  },
  {
   "cell_type": "code",
   "execution_count": 2,
   "metadata": {},
   "outputs": [],
   "source": [
    "class Promotion(ABC): # 전략, 추상 클래스\n",
    "    # 부모 클래스로, 자식 클래스가 구현해야 하는 메소드들을 정의한다.\n",
    "    @abstractmethod\n",
    "    def discount(self, order):\n",
    "        \"\"\" 할인액 반환 \"\"\"\n",
    "    \n",
    "class FidelityPromo(Promotion):\n",
    "    def discount(self, order):\n",
    "        return order.total() * .05 if order.customer.fidelity >= 1000 else 0\n",
    "\n",
    "class BulkItemPromo(Promotion):\n",
    "    def discount(self, order):\n",
    "        discount = 0\n",
    "        for item in order.cart:\n",
    "            if item.quantity >= 20:\n",
    "                discount += item.total() * .1\n",
    "        return discount\n",
    "    \n",
    "class LargeOrderPromo(Promotion):\n",
    "    def discount(self, order):\n",
    "        distinct = {item.product for item in order.cart}\n",
    "        if len(distinct) >= 10:\n",
    "            return order.total() * .07\n",
    "        return 0"
   ]
  },
  {
   "cell_type": "code",
   "execution_count": 3,
   "metadata": {},
   "outputs": [],
   "source": [
    "# 함수 지향형으로 바꾼 경우\n",
    "# 위에서는 부모 클래스를 상속 받아 추상 메소드를 구현하는 식으로 진행했다.\n",
    "# 파이썬에서는 이를 함수만으로도 활용할 수 있기 때문에 아래와 같은 구현이 가능해진다.\n",
    "\n",
    "def fidelity_promo(order):\n",
    "    return order.total() * .05 if order.customer.fidelity >= 1000 else 0\n",
    "\n",
    "def bulk_item_promo(order):\n",
    "    discount = 0\n",
    "    for item in order.cart:\n",
    "        if item.quantity >= 20:\n",
    "            discount += item.total() * .1\n",
    "    return discount\n",
    "\n",
    "def large_order_promo(order):\n",
    "    distinct = {item.product for item in order.cart}\n",
    "    if len(distinct) >= 10:\n",
    "        return order.total() * .07\n",
    "    return 0"
   ]
  }
 ],
 "metadata": {
  "kernelspec": {
   "display_name": "Python 3",
   "language": "python",
   "name": "python3"
  },
  "language_info": {
   "codemirror_mode": {
    "name": "ipython",
    "version": 3
   },
   "file_extension": ".py",
   "mimetype": "text/x-python",
   "name": "python",
   "nbconvert_exporter": "python",
   "pygments_lexer": "ipython3",
   "version": "3.11.5"
  }
 },
 "nbformat": 4,
 "nbformat_minor": 2
}
