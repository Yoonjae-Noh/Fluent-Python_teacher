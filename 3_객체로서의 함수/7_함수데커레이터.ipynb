{
 "cells": [
  {
   "cell_type": "markdown",
   "metadata": {},
   "source": [
    "# 7장. 함수 데커레이터와 클로저  \n",
    "데커레이터(decorator)는 다른 함수를 인수(입력)로 받는 콜러블(callable) 함수이다.  \n",
    "이는 일종의 편리를 위한 구문으로 함수가 실행되고 나서 데커레이터의 함수를 실행해준다. 다음 예제를 통해 알아보자."
   ]
  },
  {
   "cell_type": "code",
   "execution_count": 1,
   "metadata": {},
   "outputs": [
    {
     "name": "stdout",
     "output_type": "stream",
     "text": [
      "running inner\n"
     ]
    }
   ],
   "source": [
    "def deco(func):\n",
    "    def inner():\n",
    "        print('running inner')\n",
    "    return inner\n",
    "\n",
    "@deco\n",
    "def target():\n",
    "    print('running target()')\n",
    "\n",
    "target()"
   ]
  },
  {
   "cell_type": "code",
   "execution_count": 2,
   "metadata": {},
   "outputs": [
    {
     "name": "stdout",
     "output_type": "stream",
     "text": [
      "2\n",
      "Working time[func]: 0.00035309791564941406 sec.\n"
     ]
    }
   ],
   "source": [
    "# 예제 : 함수 데커레이터를 활용한 시간 측정\n",
    "\n",
    "def logging_time(original_fn):\n",
    "    import time\n",
    "    from functools import wraps\n",
    "\n",
    "    @wraps(original_fn)\n",
    "    def wrapper(*args, **kwargs):\n",
    "        start_time = time.time()\n",
    "        result = original_fn(*args, **kwargs)\n",
    "\n",
    "        end_time = time.time()\n",
    "\n",
    "        print(f\"Working time[{original_fn.__name__}]: {end_time - start_time} sec.\")\n",
    "        return result\n",
    "    return wrapper\n",
    "\n",
    "@logging_time\n",
    "def func():\n",
    "    print(1+1)\n",
    "\n",
    "func()"
   ]
  },
  {
   "cell_type": "code",
   "execution_count": null,
   "metadata": {},
   "outputs": [],
   "source": []
  }
 ],
 "metadata": {
  "kernelspec": {
   "display_name": "Python 3",
   "language": "python",
   "name": "python3"
  },
  "language_info": {
   "codemirror_mode": {
    "name": "ipython",
    "version": 3
   },
   "file_extension": ".py",
   "mimetype": "text/x-python",
   "name": "python",
   "nbconvert_exporter": "python",
   "pygments_lexer": "ipython3",
   "version": "3.11.5"
  }
 },
 "nbformat": 4,
 "nbformat_minor": 2
}
